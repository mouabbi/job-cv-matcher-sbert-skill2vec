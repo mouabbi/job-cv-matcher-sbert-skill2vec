{
 "cells": [
  {
   "cell_type": "markdown",
   "id": "a16bdd36",
   "metadata": {},
   "source": [
    "# Use SBERT to Compare a Resume and a Job Description"
   ]
  },
  {
   "cell_type": "code",
   "execution_count": 45,
   "id": "da310a4d",
   "metadata": {},
   "outputs": [],
   "source": [
    "from sklearn.metrics import mean_squared_error, mean_absolute_error\n",
    "from scipy.stats import pearsonr, spearmanr\n",
    "import pandas as pd"
   ]
  },
  {
   "cell_type": "code",
   "execution_count": 2,
   "id": "0caab1fd",
   "metadata": {},
   "outputs": [],
   "source": [
    "from sentence_transformers import SentenceTransformer, util\n",
    "\n",
    "# Load pre-trained SBERT model (good default: all-mpnet-base-v2)\n",
    "model = SentenceTransformer('all-mpnet-base-v2')\n"
   ]
  },
  {
   "cell_type": "code",
   "execution_count": 3,
   "id": "ead14f4e",
   "metadata": {},
   "outputs": [],
   "source": [
    "from utils.convert_to_text import convert_to_text\n",
    "\n",
    "resume =convert_to_text(\"test_data/cv.txt\")\n",
    "job_description = convert_to_text(\"test_data/job.txt\")"
   ]
  },
  {
   "cell_type": "code",
   "execution_count": 4,
   "id": "87125ac3",
   "metadata": {},
   "outputs": [
    {
     "name": "stdout",
     "output_type": "stream",
     "text": [
      "\n",
      "Cosine Similarity Score: 0.7611\n",
      "✅ Strong match\n"
     ]
    }
   ],
   "source": [
    "# Encode both texts\n",
    "embedding_resume = model.encode(resume, convert_to_tensor=True)\n",
    "embedding_job = model.encode(job_description, convert_to_tensor=True)\n",
    "\n",
    "# Compute cosine similarity\n",
    "cosine_score = util.pytorch_cos_sim(embedding_resume, embedding_job)\n",
    "\n",
    "print(f\"\\nCosine Similarity Score: {cosine_score.item():.4f}\")\n",
    "\n",
    "# Optionally, interpret similarity\n",
    "if cosine_score > 0.75:\n",
    "    print(\"✅ Strong match\")\n",
    "elif cosine_score > 0.5:\n",
    "    print(\"🤔 Partial match\")\n",
    "else:\n",
    "    print(\"❌ Weak match\")"
   ]
  },
  {
   "cell_type": "markdown",
   "id": "30c9de03",
   "metadata": {},
   "source": [
    "### evaluate a pre-trained SBERT model"
   ]
  },
  {
   "cell_type": "code",
   "execution_count": null,
   "id": "21f26371",
   "metadata": {},
   "outputs": [],
   "source": [
    "### evaluate a pre-trained SBERT model\n",
    "from sklearn.metrics import mean_squared_error, mean_absolute_error\n",
    "from scipy.stats import pearsonr, spearmanr\n",
    "import pandas as pd\n",
    "import torch\n",
    "import numpy as np\n",
    "\n",
    "\n",
    "# Load your dataset\n",
    "df = pd.read_csv(\"data/labeled_data.csv\")\n",
    "\n",
    "# Normalize score to [0, 1] range if needed\n",
    "df['score'] = df['score'] / df['score'].max()\n",
    "\n",
    "true_scores = []\n",
    "predicted_scores = []\n",
    "\n",
    "# Loop through data\n",
    "for index, row in df.iterrows():\n",
    "    resume = row['cv_text']\n",
    "    job = row['offer_text']\n",
    "    true_score = row['score']\n",
    "\n",
    "    try:\n",
    "        # Ensure both are strings\n",
    "        if isinstance(resume, str) and isinstance(job, str):\n",
    "            emb_resume = model.encode(resume, convert_to_tensor=True)\n",
    "            emb_job = model.encode(job, convert_to_tensor=True)\n",
    "            \n",
    "            # Compute cosine similarity\n",
    "            cos_sim = util.pytorch_cos_sim(emb_resume, emb_job).item()\n",
    "            \n",
    "            true_scores.append(true_score)\n",
    "            predicted_scores.append(cos_sim)\n",
    "    except Exception as e:\n",
    "        print(f\"Skipping row {index} due to error: {e}\")\n",
    "        continue\n",
    "\n",
    "# Convert to NumPy arrays\n",
    "true_scores = np.array(true_scores)\n",
    "predicted_scores = np.array(predicted_scores)\n",
    "\n"
   ]
  },
  {
   "cell_type": "code",
   "execution_count": 19,
   "id": "27ba667d",
   "metadata": {},
   "outputs": [
    {
     "name": "stdout",
     "output_type": "stream",
     "text": [
      "\n",
      "📈 Evaluation Results:\n",
      "✅ MSE: 0.0304\n",
      "✅ MAE: 0.1435\n",
      "✅ Pearson Correlation: 0.5738\n",
      "✅ Spearman Correlation: 0.5643\n"
     ]
    }
   ],
   "source": [
    "\n",
    "# 📊 Evaluation\n",
    "mse = mean_squared_error(true_scores, predicted_scores)\n",
    "mae = mean_absolute_error(true_scores, predicted_scores)\n",
    "pearson_corr, _ = pearsonr(true_scores, predicted_scores)\n",
    "spearman_corr, _ = spearmanr(true_scores, predicted_scores)\n",
    "\n",
    "print(\"\\n📈 Evaluation Results:\")\n",
    "print(f\"✅ MSE: {mse:.4f}\")\n",
    "print(f\"✅ MAE: {mae:.4f}\")\n",
    "print(f\"✅ Pearson Correlation: {pearson_corr:.4f}\")\n",
    "print(f\"✅ Spearman Correlation: {spearman_corr:.4f}\")\n"
   ]
  },
  {
   "cell_type": "markdown",
   "id": "8d8239a6",
   "metadata": {},
   "source": [
    "# entraînement de SBERT"
   ]
  },
  {
   "cell_type": "markdown",
   "id": "bf49c9bd",
   "metadata": {},
   "source": [
    "### 🏁 1. Chargement des données et prétraitement de base"
   ]
  },
  {
   "cell_type": "code",
   "execution_count": 12,
   "id": "6e0b889a",
   "metadata": {},
   "outputs": [],
   "source": [
    "import pandas as pd\n",
    "\n",
    "# Charger le dataset\n",
    "df = pd.read_csv(\"data/labeled_data.csv\")\n",
    "\n",
    "# Normalize score to [0, 1] range if needed\n",
    "df['score'] = df['score'] / df['score'].max()"
   ]
  },
  {
   "cell_type": "code",
   "execution_count": 13,
   "id": "d1642b71",
   "metadata": {},
   "outputs": [
    {
     "data": {
      "text/html": [
       "<div>\n",
       "<style scoped>\n",
       "    .dataframe tbody tr th:only-of-type {\n",
       "        vertical-align: middle;\n",
       "    }\n",
       "\n",
       "    .dataframe tbody tr th {\n",
       "        vertical-align: top;\n",
       "    }\n",
       "\n",
       "    .dataframe thead th {\n",
       "        text-align: right;\n",
       "    }\n",
       "</style>\n",
       "<table border=\"1\" class=\"dataframe\">\n",
       "  <thead>\n",
       "    <tr style=\"text-align: right;\">\n",
       "      <th></th>\n",
       "      <th>offer_text</th>\n",
       "      <th>cv_text</th>\n",
       "      <th>score</th>\n",
       "    </tr>\n",
       "  </thead>\n",
       "  <tbody>\n",
       "    <tr>\n",
       "      <th>0</th>\n",
       "      <td>Title: Kubernetes Engineer, Senior - Remote\\n ...</td>\n",
       "      <td>Résumé: Areas of expertise â¢ Big Data Ecosys...</td>\n",
       "      <td>0.319444</td>\n",
       "    </tr>\n",
       "    <tr>\n",
       "      <th>1</th>\n",
       "      <td>Title: Senior Principal Azure Cloud Engineer\\n...</td>\n",
       "      <td>Résumé: â Willingness to accept the challeng...</td>\n",
       "      <td>0.208333</td>\n",
       "    </tr>\n",
       "    <tr>\n",
       "      <th>2</th>\n",
       "      <td>Title: DevOps Engineer (RHEL)\\n        Company...</td>\n",
       "      <td>Résumé: CORE COMPETENCIES ~ Ant ~ Maven ~ GIT ...</td>\n",
       "      <td>0.583333</td>\n",
       "    </tr>\n",
       "    <tr>\n",
       "      <th>3</th>\n",
       "      <td>Title: Site Reliability Engineer - REST API\\n ...</td>\n",
       "      <td>Résumé: IT SKILLS Languages: C (Basic), JAVA (...</td>\n",
       "      <td>0.583333</td>\n",
       "    </tr>\n",
       "    <tr>\n",
       "      <th>4</th>\n",
       "      <td>Title: Lead Back End Engineer (Java, Spring, G...</td>\n",
       "      <td>Résumé: Education Details \\n\\n B.C.A Bachelor ...</td>\n",
       "      <td>0.319444</td>\n",
       "    </tr>\n",
       "  </tbody>\n",
       "</table>\n",
       "</div>"
      ],
      "text/plain": [
       "                                          offer_text  \\\n",
       "0  Title: Kubernetes Engineer, Senior - Remote\\n ...   \n",
       "1  Title: Senior Principal Azure Cloud Engineer\\n...   \n",
       "2  Title: DevOps Engineer (RHEL)\\n        Company...   \n",
       "3  Title: Site Reliability Engineer - REST API\\n ...   \n",
       "4  Title: Lead Back End Engineer (Java, Spring, G...   \n",
       "\n",
       "                                             cv_text     score  \n",
       "0  Résumé: Areas of expertise â¢ Big Data Ecosys...  0.319444  \n",
       "1  Résumé: â Willingness to accept the challeng...  0.208333  \n",
       "2  Résumé: CORE COMPETENCIES ~ Ant ~ Maven ~ GIT ...  0.583333  \n",
       "3  Résumé: IT SKILLS Languages: C (Basic), JAVA (...  0.583333  \n",
       "4  Résumé: Education Details \\n\\n B.C.A Bachelor ...  0.319444  "
      ]
     },
     "execution_count": 13,
     "metadata": {},
     "output_type": "execute_result"
    }
   ],
   "source": [
    "\n",
    "# Afficher les premières lignes\n",
    "df.head()"
   ]
  },
  {
   "cell_type": "markdown",
   "id": "d7224ecb",
   "metadata": {},
   "source": [
    "###   Nettoyage de base \n"
   ]
  },
  {
   "cell_type": "code",
   "execution_count": 14,
   "id": "2a4931cc",
   "metadata": {},
   "outputs": [
    {
     "name": "stdout",
     "output_type": "stream",
     "text": [
      "\n",
      "Avant suppression des NaN: (403, 3)\n",
      "Après suppression des NaN: (401, 3)\n",
      "\n",
      "Avant suppression des doublons: (401, 3)\n",
      "Après suppression des doublons: (395, 3)\n"
     ]
    }
   ],
   "source": [
    "# Supprimer les lignes avec des valeurs nulles\n",
    "print(f\"\\nAvant suppression des NaN: {df.shape}\")\n",
    "df = df.dropna()\n",
    "print(f\"Après suppression des NaN: {df.shape}\")\n",
    "\n",
    "# Supprimer les lignes dupliquées\n",
    "print(f\"\\nAvant suppression des doublons: {df.shape}\")\n",
    "df = df.drop_duplicates()\n",
    "print(f\"Après suppression des doublons: {df.shape}\")\n"
   ]
  },
  {
   "cell_type": "code",
   "execution_count": 15,
   "id": "b7a73488",
   "metadata": {},
   "outputs": [
    {
     "name": "stdout",
     "output_type": "stream",
     "text": [
      "\n",
      "✅ Nettoyage terminé.\n"
     ]
    },
    {
     "data": {
      "text/html": [
       "<div>\n",
       "<style scoped>\n",
       "    .dataframe tbody tr th:only-of-type {\n",
       "        vertical-align: middle;\n",
       "    }\n",
       "\n",
       "    .dataframe tbody tr th {\n",
       "        vertical-align: top;\n",
       "    }\n",
       "\n",
       "    .dataframe thead th {\n",
       "        text-align: right;\n",
       "    }\n",
       "</style>\n",
       "<table border=\"1\" class=\"dataframe\">\n",
       "  <thead>\n",
       "    <tr style=\"text-align: right;\">\n",
       "      <th></th>\n",
       "      <th>offer_text</th>\n",
       "      <th>cv_text</th>\n",
       "      <th>score</th>\n",
       "    </tr>\n",
       "  </thead>\n",
       "  <tbody>\n",
       "    <tr>\n",
       "      <th>0</th>\n",
       "      <td>Title: Kubernetes Engineer, Senior - Remote\\n ...</td>\n",
       "      <td>Résumé: Areas of expertise â¢ Big Data Ecosys...</td>\n",
       "      <td>0.319444</td>\n",
       "    </tr>\n",
       "    <tr>\n",
       "      <th>1</th>\n",
       "      <td>Title: Senior Principal Azure Cloud Engineer\\n...</td>\n",
       "      <td>Résumé: â Willingness to accept the challeng...</td>\n",
       "      <td>0.208333</td>\n",
       "    </tr>\n",
       "    <tr>\n",
       "      <th>2</th>\n",
       "      <td>Title: DevOps Engineer (RHEL)\\n        Company...</td>\n",
       "      <td>Résumé: CORE COMPETENCIES ~ Ant ~ Maven ~ GIT ...</td>\n",
       "      <td>0.583333</td>\n",
       "    </tr>\n",
       "    <tr>\n",
       "      <th>3</th>\n",
       "      <td>Title: Site Reliability Engineer - REST API\\n ...</td>\n",
       "      <td>Résumé: IT SKILLS Languages: C (Basic), JAVA (...</td>\n",
       "      <td>0.583333</td>\n",
       "    </tr>\n",
       "    <tr>\n",
       "      <th>4</th>\n",
       "      <td>Title: Lead Back End Engineer (Java, Spring, G...</td>\n",
       "      <td>Résumé: Education Details \\n\\n B.C.A Bachelor ...</td>\n",
       "      <td>0.319444</td>\n",
       "    </tr>\n",
       "  </tbody>\n",
       "</table>\n",
       "</div>"
      ],
      "text/plain": [
       "                                          offer_text  \\\n",
       "0  Title: Kubernetes Engineer, Senior - Remote\\n ...   \n",
       "1  Title: Senior Principal Azure Cloud Engineer\\n...   \n",
       "2  Title: DevOps Engineer (RHEL)\\n        Company...   \n",
       "3  Title: Site Reliability Engineer - REST API\\n ...   \n",
       "4  Title: Lead Back End Engineer (Java, Spring, G...   \n",
       "\n",
       "                                             cv_text     score  \n",
       "0  Résumé: Areas of expertise â¢ Big Data Ecosys...  0.319444  \n",
       "1  Résumé: â Willingness to accept the challeng...  0.208333  \n",
       "2  Résumé: CORE COMPETENCIES ~ Ant ~ Maven ~ GIT ...  0.583333  \n",
       "3  Résumé: IT SKILLS Languages: C (Basic), JAVA (...  0.583333  \n",
       "4  Résumé: Education Details \\n\\n B.C.A Bachelor ...  0.319444  "
      ]
     },
     "execution_count": 15,
     "metadata": {},
     "output_type": "execute_result"
    }
   ],
   "source": [
    "# Réinitialiser les index\n",
    "df = df.reset_index(drop=True)\n",
    "\n",
    "# Vérification finale\n",
    "print(\"\\n✅ Nettoyage terminé.\")\n",
    "df.head()"
   ]
  },
  {
   "cell_type": "markdown",
   "id": "913c06b4",
   "metadata": {},
   "source": [
    "###   2. Petite EDA sur les scores"
   ]
  },
  {
   "cell_type": "code",
   "execution_count": null,
   "id": "257a5cea",
   "metadata": {},
   "outputs": [],
   "source": [
    "from sklearn.model_selection import train_test_split\n",
    "\n",
    "df['score_bin'] = pd.qcut(df['score'], q=5, labels=False, duplicates='drop')\n",
    "\n",
    "df, _ = train_test_split(\n",
    "    df,\n",
    "    test_size=0.90,  # keep 10%\n",
    "    stratify=df['score_bin'],\n",
    "    random_state=42\n",
    ")\n",
    "df = df.drop(columns=['score_bin'])\n",
    "df = df.reset_index(drop=True)\n"
   ]
  },
  {
   "cell_type": "code",
   "execution_count": 16,
   "id": "2b48e7e2",
   "metadata": {},
   "outputs": [],
   "source": [
    "import matplotlib.pyplot as plt\n",
    "import seaborn as sns"
   ]
  },
  {
   "cell_type": "code",
   "execution_count": 27,
   "id": "9288e7c1",
   "metadata": {},
   "outputs": [
    {
     "name": "stdout",
     "output_type": "stream",
     "text": [
      "\n",
      " Statistiques sur les scores:\n",
      "count    39.000000\n",
      "mean      0.366809\n",
      "std       0.196927\n",
      "min       0.166667\n",
      "25%       0.166667\n",
      "50%       0.319444\n",
      "75%       0.583333\n",
      "max       0.861111\n",
      "Name: score, dtype: float64\n"
     ]
    },
    {
     "data": {
      "image/png": "[encoded data removed]",
      "text/plain": [
       "<Figure size 800x500 with 1 Axes>"
      ]
     },
     "metadata": {},
     "output_type": "display_data"
    }
   ],
   "source": [
    "# Statistiques descriptives\n",
    "print(\"\\n Statistiques sur les scores:\")\n",
    "print(df['score'].describe())\n",
    "\n",
    "# Distribution des scores\n",
    "plt.figure(figsize=(8,5))\n",
    "sns.histplot(df['score'], bins=30, kde=True, color='skyblue')\n",
    "plt.title('Distribution des scores')\n",
    "plt.xlabel('Score')\n",
    "plt.ylabel('Nombre de paires')\n",
    "plt.grid(True)\n",
    "plt.show()"
   ]
  },
  {
   "cell_type": "code",
   "execution_count": 18,
   "id": "191b4ae3",
   "metadata": {},
   "outputs": [],
   "source": [
    "# Ajouter 0.1 à tous les scores\n",
    "# df['score'] = df['score'] + 0.1"
   ]
  },
  {
   "cell_type": "code",
   "execution_count": 30,
   "id": "942eacd7",
   "metadata": {},
   "outputs": [
    {
     "data": {
      "text/html": [
       "<div>\n",
       "<style scoped>\n",
       "    .dataframe tbody tr th:only-of-type {\n",
       "        vertical-align: middle;\n",
       "    }\n",
       "\n",
       "    .dataframe tbody tr th {\n",
       "        vertical-align: top;\n",
       "    }\n",
       "\n",
       "    .dataframe thead th {\n",
       "        text-align: right;\n",
       "    }\n",
       "</style>\n",
       "<table border=\"1\" class=\"dataframe\">\n",
       "  <thead>\n",
       "    <tr style=\"text-align: right;\">\n",
       "      <th></th>\n",
       "      <th>offer_text</th>\n",
       "      <th>cv_text</th>\n",
       "      <th>score</th>\n",
       "    </tr>\n",
       "  </thead>\n",
       "  <tbody>\n",
       "    <tr>\n",
       "      <th>33</th>\n",
       "      <td>title kubernetes engineer, senior remote compa...</td>\n",
       "      <td>r sum technical skills web technologies angula...</td>\n",
       "      <td>0.208333</td>\n",
       "    </tr>\n",
       "    <tr>\n",
       "      <th>337</th>\n",
       "      <td>title database administrator company maximus l...</td>\n",
       "      <td>r sum education details hadoop developer hadoo...</td>\n",
       "      <td>0.583333</td>\n",
       "    </tr>\n",
       "    <tr>\n",
       "      <th>373</th>\n",
       "      <td>title core strategist company bp energy locati...</td>\n",
       "      <td>r sum skill set hadoop, map reduce, hdfs, hive...</td>\n",
       "      <td>0.319444</td>\n",
       "    </tr>\n",
       "    <tr>\n",
       "      <th>167</th>\n",
       "      <td>title ransomware engineer company fenix24 llc ...</td>\n",
       "      <td>r sum skill set experience in implementing, an...</td>\n",
       "      <td>0.583333</td>\n",
       "    </tr>\n",
       "    <tr>\n",
       "      <th>163</th>\n",
       "      <td>title kafka engineer company compass pointe co...</td>\n",
       "      <td>r sum technical skills programming languages j...</td>\n",
       "      <td>0.166667</td>\n",
       "    </tr>\n",
       "  </tbody>\n",
       "</table>\n",
       "</div>"
      ],
      "text/plain": [
       "                                            offer_text  \\\n",
       "33   title kubernetes engineer, senior remote compa...   \n",
       "337  title database administrator company maximus l...   \n",
       "373  title core strategist company bp energy locati...   \n",
       "167  title ransomware engineer company fenix24 llc ...   \n",
       "163  title kafka engineer company compass pointe co...   \n",
       "\n",
       "                                               cv_text     score  \n",
       "33   r sum technical skills web technologies angula...  0.208333  \n",
       "337  r sum education details hadoop developer hadoo...  0.583333  \n",
       "373  r sum skill set hadoop, map reduce, hdfs, hive...  0.319444  \n",
       "167  r sum skill set experience in implementing, an...  0.583333  \n",
       "163  r sum technical skills programming languages j...  0.166667  "
      ]
     },
     "execution_count": 30,
     "metadata": {},
     "output_type": "execute_result"
    }
   ],
   "source": [
    "df.head()"
   ]
  },
  {
   "cell_type": "markdown",
   "id": "875e6551",
   "metadata": {},
   "source": [
    "### Prétraitement des Textes"
   ]
  },
  {
   "cell_type": "code",
   "execution_count": 31,
   "id": "d67cb2d8",
   "metadata": {},
   "outputs": [],
   "source": [
    "import re\n",
    "\n",
    "def preprocess(text):\n",
    "    # Mettre tout en minuscule\n",
    "    text = text.lower()\n",
    "    \n",
    "    # Remplacer les retours à la ligne par un espace\n",
    "    text = text.replace('\\n', ' ').replace('\\r', ' ')\n",
    "    \n",
    "    # Supprimer les caractères spéciaux (garder lettres, chiffres, ponctuations simples)\n",
    "    text = re.sub(r'[^a-z0-9\\s.,;!?]', ' ', text)\n",
    "    \n",
    "    # Supprimer les espaces multiples\n",
    "    text = re.sub(r'\\s+', ' ', text)\n",
    "    \n",
    "    # Supprimer les espaces au début et à la fin\n",
    "    text = text.strip()\n",
    "    \n",
    "    return text\n"
   ]
  },
  {
   "cell_type": "code",
   "execution_count": 32,
   "id": "cae23cc0",
   "metadata": {},
   "outputs": [],
   "source": [
    "df['offer_text'] = df['offer_text'].apply(preprocess)\n",
    "df['cv_text'] = df['cv_text'].apply(preprocess)\n"
   ]
  },
  {
   "cell_type": "code",
   "execution_count": 35,
   "id": "f3b253b7",
   "metadata": {},
   "outputs": [
    {
     "data": {
      "text/html": [
       "<div>\n",
       "<style scoped>\n",
       "    .dataframe tbody tr th:only-of-type {\n",
       "        vertical-align: middle;\n",
       "    }\n",
       "\n",
       "    .dataframe tbody tr th {\n",
       "        vertical-align: top;\n",
       "    }\n",
       "\n",
       "    .dataframe thead th {\n",
       "        text-align: right;\n",
       "    }\n",
       "</style>\n",
       "<table border=\"1\" class=\"dataframe\">\n",
       "  <thead>\n",
       "    <tr style=\"text-align: right;\">\n",
       "      <th></th>\n",
       "      <th>offer_text</th>\n",
       "      <th>cv_text</th>\n",
       "      <th>score</th>\n",
       "    </tr>\n",
       "  </thead>\n",
       "  <tbody>\n",
       "    <tr>\n",
       "      <th>0</th>\n",
       "      <td>title kubernetes engineer, senior remote compa...</td>\n",
       "      <td>r sum technical skills web technologies angula...</td>\n",
       "      <td>0.208333</td>\n",
       "    </tr>\n",
       "    <tr>\n",
       "      <th>1</th>\n",
       "      <td>title database administrator company maximus l...</td>\n",
       "      <td>r sum education details hadoop developer hadoo...</td>\n",
       "      <td>0.583333</td>\n",
       "    </tr>\n",
       "    <tr>\n",
       "      <th>2</th>\n",
       "      <td>title core strategist company bp energy locati...</td>\n",
       "      <td>r sum skill set hadoop, map reduce, hdfs, hive...</td>\n",
       "      <td>0.319444</td>\n",
       "    </tr>\n",
       "    <tr>\n",
       "      <th>3</th>\n",
       "      <td>title ransomware engineer company fenix24 llc ...</td>\n",
       "      <td>r sum skill set experience in implementing, an...</td>\n",
       "      <td>0.583333</td>\n",
       "    </tr>\n",
       "    <tr>\n",
       "      <th>4</th>\n",
       "      <td>title kafka engineer company compass pointe co...</td>\n",
       "      <td>r sum technical skills programming languages j...</td>\n",
       "      <td>0.166667</td>\n",
       "    </tr>\n",
       "  </tbody>\n",
       "</table>\n",
       "</div>"
      ],
      "text/plain": [
       "                                          offer_text  \\\n",
       "0  title kubernetes engineer, senior remote compa...   \n",
       "1  title database administrator company maximus l...   \n",
       "2  title core strategist company bp energy locati...   \n",
       "3  title ransomware engineer company fenix24 llc ...   \n",
       "4  title kafka engineer company compass pointe co...   \n",
       "\n",
       "                                             cv_text     score  \n",
       "0  r sum technical skills web technologies angula...  0.208333  \n",
       "1  r sum education details hadoop developer hadoo...  0.583333  \n",
       "2  r sum skill set hadoop, map reduce, hdfs, hive...  0.319444  \n",
       "3  r sum skill set experience in implementing, an...  0.583333  \n",
       "4  r sum technical skills programming languages j...  0.166667  "
      ]
     },
     "execution_count": 35,
     "metadata": {},
     "output_type": "execute_result"
    }
   ],
   "source": [
    "df.head()"
   ]
  },
  {
   "cell_type": "code",
   "execution_count": 36,
   "id": "fed4cf3c",
   "metadata": {},
   "outputs": [],
   "source": [
    "import pandas as pd\n",
    "import torch\n",
    "from sentence_transformers import SentenceTransformer, InputExample, losses\n",
    "from torch.utils.data import DataLoader\n",
    "from sklearn.model_selection import train_test_split"
   ]
  },
  {
   "cell_type": "code",
   "execution_count": 37,
   "id": "6b65ba9b",
   "metadata": {},
   "outputs": [],
   "source": [
    "\n",
    "# Préparer les exemples pour l'entraînement\n",
    "train_examples = []\n",
    "\n",
    "for _, row in df.iterrows():\n",
    "    offer_text = row['offer_text']\n",
    "    cv_text = row['cv_text']\n",
    "    score = float(row['score'])\n",
    "    \n",
    "    # Créer un exemple pour SBERT\n",
    "    train_examples.append(InputExample(texts=[offer_text, cv_text], label=score))"
   ]
  },
  {
   "cell_type": "code",
   "execution_count": 38,
   "id": "950cf352",
   "metadata": {},
   "outputs": [],
   "source": [
    "\n",
    "# Diviser les données en jeu d'entraînement et jeu de validation\n",
    "train_examples, dev_examples = train_test_split(train_examples, test_size=0.1, random_state=42)"
   ]
  },
  {
   "cell_type": "markdown",
   "id": "ef63a3b2",
   "metadata": {},
   "source": [
    "###  Load Pretrained SBERT + Regression Loss"
   ]
  },
  {
   "cell_type": "code",
   "execution_count": 39,
   "id": "403ebec4",
   "metadata": {},
   "outputs": [],
   "source": [
    "# Créer un DataLoader pour l'entraînement\n",
    "train_dataloader = DataLoader(train_examples, batch_size=16, shuffle=True)\n",
    "dev_dataloader = DataLoader(dev_examples, batch_size=16)\n",
    "\n",
    "# Définir la fonction de perte (loss function)\n",
    "train_loss = losses.CosineSimilarityLoss(model=model)"
   ]
  },
  {
   "cell_type": "code",
   "execution_count": 40,
   "id": "93934c96",
   "metadata": {},
   "outputs": [
    {
     "data": {
      "application/vnd.jupyter.widget-view+json": {
       "model_id": "dd019b2239f6406dab17d191d41941c8",
       "version_major": 2,
       "version_minor": 0
      },
      "text/plain": [
       "Computing widget examples:   0%|          | 0/1 [00:00<?, ?example/s]"
      ]
     },
     "metadata": {},
     "output_type": "display_data"
    },
    {
     "data": {
      "text/html": [
       "\n",
       "    <div>\n",
       "      \n",
       "      <progress value='9' max='9' style='width:300px; height:20px; vertical-align: middle;'></progress>\n",
       "      [9/9 20:35, Epoch 3/3]\n",
       "    </div>\n",
       "    <table border=\"1\" class=\"dataframe\">\n",
       "  <thead>\n",
       " <tr style=\"text-align: left;\">\n",
       "      <th>Step</th>\n",
       "      <th>Training Loss</th>\n",
       "    </tr>\n",
       "  </thead>\n",
       "  <tbody>\n",
       "  </tbody>\n",
       "</table><p>"
      ],
      "text/plain": [
       "<IPython.core.display.HTML object>"
      ]
     },
     "metadata": {},
     "output_type": "display_data"
    }
   ],
   "source": [
    "# Fine-tune for a few epochs\n",
    "model.fit(\n",
    "    train_objectives=[(train_dataloader, train_loss)],\n",
    "    epochs=3,\n",
    "    warmup_steps=100,\n",
    "    show_progress_bar=True,\n",
    "    output_path='output/sbert_regression_finetuned'  # Save model here\n",
    ")\n"
   ]
  },
  {
   "cell_type": "markdown",
   "id": "c45bb99c",
   "metadata": {},
   "source": [
    "### Use  Fine-tuned Model"
   ]
  },
  {
   "cell_type": "code",
   "execution_count": 41,
   "id": "3f4f3483",
   "metadata": {},
   "outputs": [
    {
     "name": "stdout",
     "output_type": "stream",
     "text": [
      "\n",
      "Cosine Similarity Score: 0.7511\n",
      "✅ Strong match\n"
     ]
    }
   ],
   "source": [
    "# from sentence_transformers import SentenceTransformer, util\n",
    "\n",
    "finetuned_model = SentenceTransformer('output/sbert_regression_finetuned')\n",
    "\n",
    "# Example inference\n",
    "resume =convert_to_text(\"test_data/cv.txt\")\n",
    "job_description = convert_to_text(\"test_data/job.txt\")\n",
    "\n",
    "# Encode both texts\n",
    "embedding_resume = finetuned_model.encode(resume, convert_to_tensor=True)\n",
    "embedding_job = finetuned_model.encode(job_description, convert_to_tensor=True)\n",
    "\n",
    "# Compute cosine similarity\n",
    "cosine_score = util.pytorch_cos_sim(embedding_resume, embedding_job)\n",
    "\n",
    "print(f\"\\nCosine Similarity Score: {cosine_score.item():.4f}\")\n",
    "\n",
    "# Optionally, interpret similarity\n",
    "if cosine_score > 0.75:\n",
    "    print(\"✅ Strong match\")\n",
    "elif cosine_score > 0.5:\n",
    "    print(\"🤔 Partial match\")\n",
    "else:\n",
    "    print(\"❌ Weak match\")"
   ]
  },
  {
   "cell_type": "markdown",
   "id": "5aedb37c",
   "metadata": {},
   "source": [
    "### evaluate the fine-tuned SBERT model"
   ]
  },
  {
   "cell_type": "code",
   "execution_count": null,
   "id": "7eb76135",
   "metadata": {},
   "outputs": [],
   "source": [
    "# Load your dataset\n",
    "df = pd.read_csv(\"data/labeled_data.csv\")\n",
    "\n",
    "# Normalize score to [0, 1] range if needed\n",
    "df['score'] = df['score'] / df['score'].max()\n",
    "\n",
    "true_scores = []\n",
    "predicted_scores = []\n",
    "\n",
    "# Loop through data\n",
    "for index, row in df.iterrows():\n",
    "    resume = row['cv_text']\n",
    "    job = row['offer_text']\n",
    "    true_score = row['score']\n",
    "\n",
    "    try:\n",
    "        # Ensure both are strings\n",
    "        if isinstance(resume, str) and isinstance(job, str):\n",
    "            emb_resume = model.encode(resume, convert_to_tensor=True)\n",
    "            emb_job = model.encode(job, convert_to_tensor=True)\n",
    "            \n",
    "            # Compute cosine similarity\n",
    "            cos_sim = util.pytorch_cos_sim(emb_resume, emb_job).item()\n",
    "            \n",
    "            true_scores.append(true_score)\n",
    "            predicted_scores.append(cos_sim)\n",
    "    except Exception as e:\n",
    "        print(f\"Skipping row {index} due to error: {e}\")\n",
    "        continue\n",
    "\n",
    "# Convert to NumPy arrays\n",
    "\n",
    "true_scores = np.array(true_scores)\n",
    "predicted_scores = np.array(predicted_scores)"
   ]
  },
  {
   "cell_type": "code",
   "execution_count": 46,
   "id": "09e38009",
   "metadata": {},
   "outputs": [
    {
     "name": "stdout",
     "output_type": "stream",
     "text": [
      "\n",
      "📈 Evaluation Results:\n",
      "✅ MSE: 0.0286\n",
      "✅ MAE: 0.1378\n",
      "✅ Pearson Correlation: 0.5950\n",
      "✅ Spearman Correlation: 0.5859\n"
     ]
    }
   ],
   "source": [
    "\n",
    "# 📊 Evaluation\n",
    "mse = mean_squared_error(true_scores, predicted_scores)\n",
    "mae = mean_absolute_error(true_scores, predicted_scores)\n",
    "pearson_corr, _ = pearsonr(true_scores, predicted_scores)\n",
    "spearman_corr, _ = spearmanr(true_scores, predicted_scores)\n",
    "\n",
    "print(\"\\n📈 Evaluation Results:\")\n",
    "print(f\"✅ MSE: {mse:.4f}\")\n",
    "print(f\"✅ MAE: {mae:.4f}\")\n",
    "print(f\"✅ Pearson Correlation: {pearson_corr:.4f}\")\n",
    "print(f\"✅ Spearman Correlation: {spearman_corr:.4f}\")\n"
   ]
  }
 ],
 "metadata": {
  "kernelspec": {
   "display_name": "Python 3",
   "language": "python",
   "name": "python3"
  },
  "language_info": {
   "codemirror_mode": {
    "name": "ipython",
    "version": 3
   },
   "file_extension": ".py",
   "mimetype": "text/x-python",
   "name": "python",
   "nbconvert_exporter": "python",
   "pygments_lexer": "ipython3",
   "version": "3.12.6"
  }
 },
 "nbformat": 4,
 "nbformat_minor": 5
}
