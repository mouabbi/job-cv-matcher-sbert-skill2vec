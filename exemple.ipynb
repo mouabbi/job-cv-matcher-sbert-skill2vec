{
 "cells": [
  {
   "cell_type": "markdown",
   "id": "93957b06",
   "metadata": {},
   "source": [
    "##  1. SBERT Matching\n",
    "\n",
    "#### 🧪 Texte brut"
   ]
  },
  {
   "cell_type": "code",
   "execution_count": 1,
   "id": "9768ff27",
   "metadata": {},
   "outputs": [
    {
     "name": "stdout",
     "output_type": "stream",
     "text": [
      "Score de similarité SBERT (textes bruts) : 0.7825\n"
     ]
    }
   ],
   "source": [
    "from Sbert.SBERTMatching import SBERTMatching\n",
    "\n",
    "# Instancier le modèle\n",
    "sbert_matcher = SBERTMatching(model_path='Sbert/output/sbert_regression_finetuned')\n",
    "\n",
    "# Texte du CV et de l'offre\n",
    "cv_text = \"Ingénieur IA avec 5 ans d'expérience en machine learning et Python.\"\n",
    "job_text = \"Nous cherchons un ingénieur en machine learning maîtrisant Python.\"\n",
    "\n",
    "# Calcul de la similarité\n",
    "similarity_score = sbert_matcher.compute_similarity(cv_text, job_text)\n",
    "\n",
    "print(f\"Score de similarité SBERT (textes bruts) : {similarity_score:.4f}\")\n"
   ]
  },
  {
   "cell_type": "markdown",
   "id": "0e93541e",
   "metadata": {},
   "source": [
    "#### 📁 Fichiers PDF/TXT"
   ]
  },
  {
   "cell_type": "code",
   "execution_count": 2,
   "id": "cc62c9d3",
   "metadata": {},
   "outputs": [
    {
     "name": "stdout",
     "output_type": "stream",
     "text": [
      "Score de similarité SBERT (fichiers) : 0.7511\n"
     ]
    }
   ],
   "source": [
    "\n",
    "# Utilisation de fichiers en entrée\n",
    "cv_path = \"cv.txt\"\n",
    "job_path = \"job.txt\"\n",
    "\n",
    "# Calcul de la similarité\n",
    "similarity_score = sbert_matcher.compute_similarity(cv_path, job_path)\n",
    "\n",
    "print(f\"Score de similarité SBERT (fichiers) : {similarity_score:.4f}\")\n"
   ]
  },
  {
   "cell_type": "markdown",
   "id": "80c4c7a3",
   "metadata": {},
   "source": [
    "## Skill2Vec Matching"
   ]
  },
  {
   "cell_type": "code",
   "execution_count": 5,
   "id": "0363e8cd",
   "metadata": {},
   "outputs": [],
   "source": [
    "from Skill2Vec.Skill2VecMatching import Skill2VecMatching\n",
    "\n",
    "# Instanciation du module avec les fichiers CV et offre d’emploi\n",
    "competence_model = Skill2VecMatching(model_path=r\"Skill2Vec/models/skill2vec_10k_trained.model\")\n"
   ]
  },
  {
   "cell_type": "code",
   "execution_count": 6,
   "id": "da8a84e2",
   "metadata": {},
   "outputs": [
    {
     "name": "stderr",
     "output_type": "stream",
     "text": [
      "c:\\Users\\user\\AppData\\Local\\Programs\\Python\\Python312\\Lib\\site-packages\\skillNer\\utils.py:99: UserWarning: [W008] Evaluating Token.similarity based on empty vectors.\n",
      "  vec_similarity = token1.similarity(token2)\n"
     ]
    },
    {
     "name": "stdout",
     "output_type": "stream",
     "text": [
      "Score de similarité : 0.9876951575279236\n"
     ]
    }
   ],
   "source": [
    "# Obtention du score de similarité\n",
    "score = competence_model.get_similarity_score(cv_input=\"cv.txt\",job_input=\"job.txt\")\n",
    "\n",
    "print(f\"Score de similarité : {score}\")"
   ]
  },
  {
   "cell_type": "markdown",
   "id": "a4398792",
   "metadata": {},
   "source": [
    "\n",
    "## 🤖 Exemple d’Utilisation de l’Approche Hybride\n",
    "\n",
    "Voici un exemple d'utilisation qui :\n",
    "- Prend en entrée un CV et une offre d’emploi (chemin vers fichier ou texte brut),\n",
    "- Calcule un score de similarité SBERT,\n",
    "- Calcule un score de similarité Skill2Vec,\n",
    "- Calcule un score final pondéré (par exemple 60% SBERT, 40% Skill2Vec),\n",
    "- Affiche les résultats"
   ]
  },
  {
   "cell_type": "code",
   "execution_count": null,
   "id": "11485eeb",
   "metadata": {},
   "outputs": [],
   "source": []
  },
  {
   "cell_type": "code",
   "execution_count": 8,
   "id": "606068e4",
   "metadata": {},
   "outputs": [
    {
     "name": "stderr",
     "output_type": "stream",
     "text": [
      "c:\\Users\\user\\AppData\\Local\\Programs\\Python\\Python312\\Lib\\site-packages\\skillNer\\utils.py:99: UserWarning: [W008] Evaluating Token.similarity based on empty vectors.\n",
      "  vec_similarity = token1.similarity(token2)\n"
     ]
    },
    {
     "name": "stdout",
     "output_type": "stream",
     "text": [
      "\n",
      "[Résultats]\n",
      "Score de similarité SBERT      : 0.7511\n",
      "Score de similarité Skill2Vec  : 0.9877\n",
      "Score final pondéré            : 0.8457\n"
     ]
    }
   ],
   "source": [
    "from Sbert.SBERTMatching import SBERTMatching\n",
    "from Skill2Vec.Skill2VecMatching import Skill2VecMatching\n",
    "\n",
    "\n",
    "# === Étape 1 : cv & job d'entrée  ===\n",
    "cv_input = \"cv.txt\"\n",
    "job_input = \"job.txt\"\n",
    "\n",
    "# === Étape 2 : Chargement des modeles de matching ===\n",
    "sbert_matcher = SBERTMatching(model_path=\"Sbert/output/sbert_regression_finetuned\")\n",
    "skill2vec_matcher = Skill2VecMatching(model_path=r\"Skill2Vec/models/skill2vec_10k_trained.model\")  \n",
    "\n",
    "# === Étape 3 : Calcul des similarités ===\n",
    "score_sbert = sbert_matcher.compute_similarity(cv_input, job_input)\n",
    "score_skill2vec = skill2vec_matcher.get_similarity_score(cv_input, job_input)\n",
    "\n",
    "# === Étape 4 : Calcul du score pondéré final ===\n",
    "score_final = 0.6 * score_sbert + 0.4 * score_skill2vec\n",
    "\n",
    "# === Étape 5 : Affichage des résultats ===\n",
    "print(\"\\n[Résultats]\")\n",
    "print(f\"Score de similarité SBERT      : {score_sbert:.4f}\")\n",
    "print(f\"Score de similarité Skill2Vec  : {score_skill2vec:.4f}\")\n",
    "print(f\"Score final pondéré            : {score_final:.4f}\")\n"
   ]
  },
  {
   "cell_type": "markdown",
   "id": "27976af3",
   "metadata": {},
   "source": [
    "Nous prévoyons d'intégrer cette **approche hybride de matching sémantique** (basée sur **SBERT** et **Skill2Vec**) dans notre **plateforme de recrutement** afin d'améliorer la pertinence de la mise en relation entre les CV et les offres d'emploi.\n",
    "\n",
    "➡️ **Les détails techniques et les implémentations complètes seront disponibles prochainement** dans ce dépôt GitHub.\n",
    "\n",
    "📌 Restez connectés pour découvrir comment cette méthode permet de combiner la puissance des embeddings contextuels (SBERT) avec la similarité sémantique orientée compétences (Skill2Vec).\n",
    "\n",
    "Rédigé par : [Mohamed OUABBI](https://github.com/mouabbi)"
   ]
  }
 ],
 "metadata": {
  "kernelspec": {
   "display_name": "Python 3",
   "language": "python",
   "name": "python3"
  },
  "language_info": {
   "codemirror_mode": {
    "name": "ipython",
    "version": 3
   },
   "file_extension": ".py",
   "mimetype": "text/x-python",
   "name": "python",
   "nbconvert_exporter": "python",
   "pygments_lexer": "ipython3",
   "version": "3.12.6"
  }
 },
 "nbformat": 4,
 "nbformat_minor": 5
}
